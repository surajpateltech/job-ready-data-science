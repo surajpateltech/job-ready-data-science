{
 "cells": [
  {
   "cell_type": "code",
   "execution_count": 3,
   "id": "d39b1748-49ce-4eed-82eb-a13fd5dd561e",
   "metadata": {},
   "outputs": [],
   "source": [
    "sets = {265,9,4,466,13,36,9}"
   ]
  },
  {
   "cell_type": "code",
   "execution_count": 4,
   "id": "d15649b6-e584-40be-87f0-a19af5d0e224",
   "metadata": {},
   "outputs": [
    {
     "data": {
      "text/plain": [
       "set"
      ]
     },
     "execution_count": 4,
     "metadata": {},
     "output_type": "execute_result"
    }
   ],
   "source": [
    "type(sets)"
   ]
  },
  {
   "cell_type": "code",
   "execution_count": 6,
   "id": "b2bdfaed-90e5-4d6a-ac4c-529940190cdf",
   "metadata": {},
   "outputs": [
    {
     "data": {
      "text/plain": [
       "{4, 9, 13, 36, 265, 466}"
      ]
     },
     "execution_count": 6,
     "metadata": {},
     "output_type": "execute_result"
    }
   ],
   "source": [
    "sets"
   ]
  },
  {
   "cell_type": "code",
   "execution_count": 7,
   "id": "2949cac9-df81-46fa-be49-5cc9a3d1209a",
   "metadata": {},
   "outputs": [
    {
     "name": "stdout",
     "output_type": "stream",
     "text": [
      "{1, 2, 3, 4, 5}\n"
     ]
    }
   ],
   "source": [
    "# Empty set (must use set(), not {})\n",
    "empty_set = set()\n",
    "\n",
    "# Set with elements\n",
    "numbers = {1, 2, 3, 4, 5}\n",
    "\n",
    "# Mixed data types\n",
    "mixed_set = {1, \"Hello\", 3.14, True}\n",
    "\n",
    "# Creating a set from a list\n",
    "unique_numbers = set([1, 2, 2, 3, 4, 4, 5])\n",
    "print(unique_numbers)  # {1, 2, 3, 4, 5}"
   ]
  },
  {
   "cell_type": "code",
   "execution_count": 1,
   "id": "23ac7b30-533c-41b3-8f1e-9b356db407b5",
   "metadata": {},
   "outputs": [
    {
     "name": "stdout",
     "output_type": "stream",
     "text": [
      "{2, 99, 4, 6, 8}\n"
     ]
    }
   ],
   "source": [
    "s = {4,8,6,2,99,4}\n",
    "print(s)"
   ]
  },
  {
   "cell_type": "code",
   "execution_count": 2,
   "id": "a3bb41f4-bdbc-4451-a005-e2a4b44afd88",
   "metadata": {},
   "outputs": [],
   "source": [
    "s.add(59)"
   ]
  },
  {
   "cell_type": "code",
   "execution_count": 3,
   "id": "c8a012b4-8167-4f39-938f-b7119dc1d07c",
   "metadata": {},
   "outputs": [
    {
     "data": {
      "text/plain": [
       "{2, 4, 6, 8, 59, 99}"
      ]
     },
     "execution_count": 3,
     "metadata": {},
     "output_type": "execute_result"
    }
   ],
   "source": [
    "s"
   ]
  },
  {
   "cell_type": "code",
   "execution_count": 4,
   "id": "ca03fd37-a127-47e7-b681-6223d79a4819",
   "metadata": {},
   "outputs": [],
   "source": [
    "s.update([69,89,74,39,89])"
   ]
  },
  {
   "cell_type": "code",
   "execution_count": 5,
   "id": "7995a3f9-3f83-4fae-9504-adb0a0a4a8b3",
   "metadata": {},
   "outputs": [
    {
     "data": {
      "text/plain": [
       "{2, 4, 6, 8, 39, 59, 69, 74, 89, 99}"
      ]
     },
     "execution_count": 5,
     "metadata": {},
     "output_type": "execute_result"
    }
   ],
   "source": [
    "s"
   ]
  },
  {
   "cell_type": "code",
   "execution_count": 6,
   "id": "b8e892ba-27b9-48a9-9f90-1b5219370951",
   "metadata": {},
   "outputs": [
    {
     "data": {
      "text/plain": [
       "2"
      ]
     },
     "execution_count": 6,
     "metadata": {},
     "output_type": "execute_result"
    }
   ],
   "source": [
    "s.pop()"
   ]
  },
  {
   "cell_type": "code",
   "execution_count": 7,
   "id": "986fbeef-9123-4ba3-a7da-646456449696",
   "metadata": {},
   "outputs": [
    {
     "data": {
      "text/plain": [
       "{4, 6, 8, 39, 59, 69, 74, 89, 99}"
      ]
     },
     "execution_count": 7,
     "metadata": {},
     "output_type": "execute_result"
    }
   ],
   "source": [
    "s"
   ]
  },
  {
   "cell_type": "code",
   "execution_count": 8,
   "id": "bca73b73-0572-41d9-a0d1-1c295dede140",
   "metadata": {},
   "outputs": [
    {
     "ename": "KeyError",
     "evalue": "266",
     "output_type": "error",
     "traceback": [
      "\u001b[1;31m---------------------------------------------------------------------------\u001b[0m",
      "\u001b[1;31mKeyError\u001b[0m                                  Traceback (most recent call last)",
      "Cell \u001b[1;32mIn[8], line 1\u001b[0m\n\u001b[1;32m----> 1\u001b[0m s\u001b[38;5;241m.\u001b[39mremove(\u001b[38;5;241m266\u001b[39m)\n",
      "\u001b[1;31mKeyError\u001b[0m: 266"
     ]
    }
   ],
   "source": [
    "s.remove(266)"
   ]
  },
  {
   "cell_type": "code",
   "execution_count": 9,
   "id": "d17a8276-c43b-4f4a-b7f1-668b951a25f3",
   "metadata": {},
   "outputs": [],
   "source": [
    "s.discard(569)"
   ]
  },
  {
   "cell_type": "code",
   "execution_count": 10,
   "id": "b060ddb3-ea1f-49c2-a469-49a82ab6554f",
   "metadata": {},
   "outputs": [],
   "source": [
    "new_s = s.copy()"
   ]
  },
  {
   "cell_type": "code",
   "execution_count": 11,
   "id": "09c2ac82-dad3-4fd7-a28f-445a03e28fc9",
   "metadata": {},
   "outputs": [
    {
     "data": {
      "text/plain": [
       "{4, 6, 8, 39, 59, 69, 74, 89, 99}"
      ]
     },
     "execution_count": 11,
     "metadata": {},
     "output_type": "execute_result"
    }
   ],
   "source": [
    "new_s"
   ]
  },
  {
   "cell_type": "code",
   "execution_count": 12,
   "id": "1469e0b8-9ccb-4f92-86a9-f4fcfc62a3b1",
   "metadata": {},
   "outputs": [],
   "source": [
    "new_s.update([84,199,879,856])"
   ]
  },
  {
   "cell_type": "code",
   "execution_count": 13,
   "id": "b007c9b7-0628-4c57-b3e5-96a9b64b1f55",
   "metadata": {},
   "outputs": [
    {
     "data": {
      "text/plain": [
       "{4, 6, 8, 39, 59, 69, 74, 84, 89, 99, 199, 856, 879}"
      ]
     },
     "execution_count": 13,
     "metadata": {},
     "output_type": "execute_result"
    }
   ],
   "source": [
    "new_s"
   ]
  },
  {
   "cell_type": "code",
   "execution_count": 14,
   "id": "f7d7f28f-fa1b-4ff6-822d-6da6dbdd1b6a",
   "metadata": {},
   "outputs": [
    {
     "data": {
      "text/plain": [
       "{4, 6, 8, 39, 59, 69, 74, 84, 89, 99, 199, 856, 879}"
      ]
     },
     "execution_count": 14,
     "metadata": {},
     "output_type": "execute_result"
    }
   ],
   "source": [
    "s.union(new_s)"
   ]
  },
  {
   "cell_type": "code",
   "execution_count": 15,
   "id": "7cc329b7-b7fb-41b3-b90b-81f1ae195e16",
   "metadata": {},
   "outputs": [
    {
     "data": {
      "text/plain": [
       "{4, 6, 8, 39, 59, 69, 74, 89, 99}"
      ]
     },
     "execution_count": 15,
     "metadata": {},
     "output_type": "execute_result"
    }
   ],
   "source": [
    "s.intersection(new_s)"
   ]
  },
  {
   "cell_type": "code",
   "execution_count": null,
   "id": "15a3b522-0125-4eba-b76c-aeb73ca6e2c7",
   "metadata": {},
   "outputs": [],
   "source": []
  }
 ],
 "metadata": {
  "kernelspec": {
   "display_name": "Python [conda env:base] *",
   "language": "python",
   "name": "conda-base-py"
  },
  "language_info": {
   "codemirror_mode": {
    "name": "ipython",
    "version": 3
   },
   "file_extension": ".py",
   "mimetype": "text/x-python",
   "name": "python",
   "nbconvert_exporter": "python",
   "pygments_lexer": "ipython3",
   "version": "3.13.5"
  }
 },
 "nbformat": 4,
 "nbformat_minor": 5
}
