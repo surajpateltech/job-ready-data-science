{
 "cells": [
  {
   "cell_type": "code",
   "execution_count": 1,
   "id": "f62e8805-760c-423c-afad-747010630ec1",
   "metadata": {},
   "outputs": [],
   "source": [
    "list = [\"Devil\", \"Lucifer\", \"Eblish\", \"Ebriel\"]"
   ]
  },
  {
   "cell_type": "code",
   "execution_count": 2,
   "id": "1b0381b3-581d-4418-8601-794107c80d3c",
   "metadata": {},
   "outputs": [
    {
     "name": "stdout",
     "output_type": "stream",
     "text": [
      "Devil\n",
      "Lucifer\n",
      "Eblish\n",
      "Ebriel\n"
     ]
    }
   ],
   "source": [
    "for l in list:\n",
    "    print(l)"
   ]
  },
  {
   "cell_type": "code",
   "execution_count": 3,
   "id": "1ff2c7ba-7e37-4061-99dd-d2d2348b5967",
   "metadata": {},
   "outputs": [],
   "source": [
    "list[2] = \"Eblissh\""
   ]
  },
  {
   "cell_type": "code",
   "execution_count": 4,
   "id": "cf54eb14-73f9-4ed4-8933-53a55687a852",
   "metadata": {},
   "outputs": [
    {
     "name": "stdout",
     "output_type": "stream",
     "text": [
      "Devil\n",
      "Lucifer\n",
      "Eblissh\n",
      "Ebriel\n"
     ]
    }
   ],
   "source": [
    "for l in list:\n",
    "    print(l)"
   ]
  },
  {
   "cell_type": "code",
   "execution_count": 5,
   "id": "3f1257bb-b1a3-40fa-a066-5569c4904cac",
   "metadata": {},
   "outputs": [
    {
     "name": "stdout",
     "output_type": "stream",
     "text": [
      "Ebriel\n"
     ]
    }
   ],
   "source": [
    "print(list[3])"
   ]
  },
  {
   "cell_type": "code",
   "execution_count": 7,
   "id": "b37a5d25-e63d-4973-a5f5-1fbebcff13d4",
   "metadata": {},
   "outputs": [],
   "source": [
    "list.append(\"Devs\")"
   ]
  },
  {
   "cell_type": "code",
   "execution_count": 8,
   "id": "fd255ad6-502d-44b2-89c7-61c54aeec26d",
   "metadata": {},
   "outputs": [
    {
     "name": "stdout",
     "output_type": "stream",
     "text": [
      "Devil\n",
      "Lucifer\n",
      "Eblissh\n",
      "Ebriel\n",
      "Devs\n"
     ]
    }
   ],
   "source": [
    "for l in list:\n",
    "    print(l)"
   ]
  },
  {
   "cell_type": "code",
   "execution_count": 9,
   "id": "968e8e3f-1a1c-49a2-8a68-2a367e7bd1c8",
   "metadata": {},
   "outputs": [],
   "source": [
    "list.insert(1,\"Suzuka\")"
   ]
  },
  {
   "cell_type": "code",
   "execution_count": 10,
   "id": "9089cf97-3394-4772-bc40-9ff5c908af5a",
   "metadata": {},
   "outputs": [
    {
     "name": "stdout",
     "output_type": "stream",
     "text": [
      "Devil\n",
      "Suzuka\n",
      "Lucifer\n",
      "Eblissh\n",
      "Ebriel\n",
      "Devs\n"
     ]
    }
   ],
   "source": [
    "for l in list:\n",
    "    print(l)"
   ]
  },
  {
   "cell_type": "code",
   "execution_count": 11,
   "id": "2deb611c-1df9-458a-ac43-ee909ca95455",
   "metadata": {},
   "outputs": [
    {
     "data": {
      "text/plain": [
       "5"
      ]
     },
     "execution_count": 11,
     "metadata": {},
     "output_type": "execute_result"
    }
   ],
   "source": [
    "list.index(\"Devs\")"
   ]
  },
  {
   "cell_type": "code",
   "execution_count": 18,
   "id": "29fb19a2-34ea-415a-b2ad-f1b9f0297e4f",
   "metadata": {},
   "outputs": [
    {
     "data": {
      "text/plain": [
       "[18, 37, 55, 66, 76, 91, 92, 92]"
      ]
     },
     "execution_count": 18,
     "metadata": {},
     "output_type": "execute_result"
    }
   ],
   "source": [
    "l = [55,66,18,92,92,91,76,37]\n",
    "sorted(l)"
   ]
  },
  {
   "cell_type": "code",
   "execution_count": 22,
   "id": "368beeec-79c1-4001-98b3-9af9b8f0da44",
   "metadata": {},
   "outputs": [],
   "source": [
    "l\n",
    "l.sort()"
   ]
  },
  {
   "cell_type": "code",
   "execution_count": 23,
   "id": "c10cbe21-00e0-4a3f-a14d-09e96bf063d3",
   "metadata": {},
   "outputs": [
    {
     "data": {
      "text/plain": [
       "[18, 37, 55, 66, 76, 91, 92, 92]"
      ]
     },
     "execution_count": 23,
     "metadata": {},
     "output_type": "execute_result"
    }
   ],
   "source": [
    "l"
   ]
  },
  {
   "cell_type": "code",
   "execution_count": 24,
   "id": "61bc241d-03c1-41a5-99d6-72eb10dde80b",
   "metadata": {},
   "outputs": [
    {
     "data": {
      "text/plain": [
       "[18, 37, 55, 66, 76, 91, 92, 92]"
      ]
     },
     "execution_count": 24,
     "metadata": {},
     "output_type": "execute_result"
    }
   ],
   "source": [
    "sorted(l)"
   ]
  },
  {
   "cell_type": "code",
   "execution_count": 25,
   "id": "75727950-c054-477a-bab9-cbbab17cd558",
   "metadata": {},
   "outputs": [],
   "source": [
    "s = \"dev-eefdw-fewf-feqwfewq-fege-fffwe\""
   ]
  },
  {
   "cell_type": "code",
   "execution_count": 26,
   "id": "2ff32dea-2bb4-4cc4-8f8e-5442de107e93",
   "metadata": {},
   "outputs": [
    {
     "data": {
      "text/plain": [
       "['dev', 'eefdw', 'fewf', 'feqwfewq', 'fege', 'fffwe']"
      ]
     },
     "execution_count": 26,
     "metadata": {},
     "output_type": "execute_result"
    }
   ],
   "source": [
    "s.split(\"-\")"
   ]
  },
  {
   "cell_type": "code",
   "execution_count": null,
   "id": "0ccfe5ca-a554-4ad0-b5b5-f26b6c73457f",
   "metadata": {},
   "outputs": [],
   "source": []
  }
 ],
 "metadata": {
  "kernelspec": {
   "display_name": "Python [conda env:base] *",
   "language": "python",
   "name": "conda-base-py"
  },
  "language_info": {
   "codemirror_mode": {
    "name": "ipython",
    "version": 3
   },
   "file_extension": ".py",
   "mimetype": "text/x-python",
   "name": "python",
   "nbconvert_exporter": "python",
   "pygments_lexer": "ipython3",
   "version": "3.13.5"
  }
 },
 "nbformat": 4,
 "nbformat_minor": 5
}
