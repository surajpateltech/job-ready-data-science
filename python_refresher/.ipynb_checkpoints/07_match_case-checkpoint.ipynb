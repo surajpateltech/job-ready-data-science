{
 "cells": [
  {
   "cell_type": "code",
   "execution_count": 1,
   "id": "60b07d3b-d79a-4f09-ab5b-694433627db6",
   "metadata": {},
   "outputs": [],
   "source": [
    "code = 200"
   ]
  },
  {
   "cell_type": "code",
   "execution_count": 3,
   "id": "1b32d23c-60de-4cc6-b0a0-9205f4ca3578",
   "metadata": {},
   "outputs": [
    {
     "name": "stdout",
     "output_type": "stream",
     "text": [
      "Response ok\n",
      "End Of Program!\n"
     ]
    }
   ],
   "source": [
    "match code:\n",
    "    case 200:\n",
    "        print(\"Response ok\")\n",
    "    case 300:\n",
    "        print(\"Bad Response\")\n",
    "print(\"End Of Program!\")"
   ]
  },
  {
   "cell_type": "code",
   "execution_count": 4,
   "id": "b46a0837-7067-4ba0-925c-71a01d7e44a4",
   "metadata": {},
   "outputs": [
    {
     "name": "stdout",
     "output_type": "stream",
     "text": [
      "OK\n",
      "Not Found\n"
     ]
    }
   ],
   "source": [
    "def http_status(code):\n",
    "    match code:\n",
    "        case 200:\n",
    "            return \"OK\"\n",
    "        case 400:\n",
    "            return \"Bad Request\"\n",
    "        case 404:\n",
    "            return \"Not Found\"\n",
    "        case 500:\n",
    "            return \"Internal Server Error\"\n",
    "        case _:\n",
    "            return \"Unknown Status\"\n",
    "\n",
    "print(http_status(200))  # Output: OK\n",
    "print(http_status(404))  # Output: Not Found"
   ]
  },
  {
   "cell_type": "code",
   "execution_count": 5,
   "id": "b4123b45-9b52-4ab5-86ef-7129035ed8bd",
   "metadata": {},
   "outputs": [
    {
     "name": "stdout",
     "output_type": "stream",
     "text": [
      "Point at (3, 4)\n"
     ]
    }
   ],
   "source": [
    "point = (3, 4)\n",
    "\n",
    "match point:\n",
    "    case (0, 0):\n",
    "        print(\"Origin\")\n",
    "    case (x, 0):\n",
    "        print(f\"X-Axis at {x}\")\n",
    "    case (0, y):\n",
    "        print(f\"Y-Axis at {y}\")\n",
    "    case (x, y):\n",
    "        print(f\"Point at ({x}, {y})\")"
   ]
  },
  {
   "cell_type": "code",
   "execution_count": null,
   "id": "b0a1f4f7-52b1-49cd-87ab-8e91566b6a1b",
   "metadata": {},
   "outputs": [],
   "source": []
  }
 ],
 "metadata": {
  "kernelspec": {
   "display_name": "Python [conda env:base] *",
   "language": "python",
   "name": "conda-base-py"
  },
  "language_info": {
   "codemirror_mode": {
    "name": "ipython",
    "version": 3
   },
   "file_extension": ".py",
   "mimetype": "text/x-python",
   "name": "python",
   "nbconvert_exporter": "python",
   "pygments_lexer": "ipython3",
   "version": "3.13.5"
  }
 },
 "nbformat": 4,
 "nbformat_minor": 5
}
