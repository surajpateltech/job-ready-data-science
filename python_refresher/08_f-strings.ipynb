{
 "cells": [
  {
   "cell_type": "code",
   "execution_count": 2,
   "id": "a0bf4a1f-5306-48cf-af6b-d77bac623b60",
   "metadata": {},
   "outputs": [],
   "source": [
    "name = \"DevilsInferno\"\n",
    "age = 977"
   ]
  },
  {
   "cell_type": "code",
   "execution_count": 4,
   "id": "80fd685b-8869-4ac4-af90-2ea271ae7c36",
   "metadata": {},
   "outputs": [
    {
     "name": "stdout",
     "output_type": "stream",
     "text": [
      "My name is DevilsInferno and I am 977 years old.\n"
     ]
    }
   ],
   "source": [
    "print(\"My name is {} and I am {} years old.\".format(name,age))"
   ]
  },
  {
   "cell_type": "code",
   "execution_count": 6,
   "id": "cb29f77a-d952-4898-b309-9d645edfae95",
   "metadata": {},
   "outputs": [
    {
     "name": "stdout",
     "output_type": "stream",
     "text": [
      "My name is Dev and I am 25 years old\n"
     ]
    }
   ],
   "source": [
    "# f-Strings\n",
    "name = \"Dev\"\n",
    "age = 25\n",
    "print(f\"My name is {name} and I am {age} years old\")"
   ]
  },
  {
   "cell_type": "code",
   "execution_count": null,
   "id": "f97c5837-462c-42ab-925f-34294e0a0b82",
   "metadata": {},
   "outputs": [],
   "source": []
  }
 ],
 "metadata": {
  "kernelspec": {
   "display_name": "Python [conda env:base] *",
   "language": "python",
   "name": "conda-base-py"
  },
  "language_info": {
   "codemirror_mode": {
    "name": "ipython",
    "version": 3
   },
   "file_extension": ".py",
   "mimetype": "text/x-python",
   "name": "python",
   "nbconvert_exporter": "python",
   "pygments_lexer": "ipython3",
   "version": "3.13.5"
  }
 },
 "nbformat": 4,
 "nbformat_minor": 5
}
