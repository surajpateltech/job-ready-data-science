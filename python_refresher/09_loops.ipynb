{
 "cells": [
  {
   "cell_type": "code",
   "execution_count": 1,
   "id": "7a0fd52c-206f-45a0-8294-00044941def8",
   "metadata": {},
   "outputs": [],
   "source": [
    "list = [4,6,2,8,6,2,9,3]\n"
   ]
  },
  {
   "cell_type": "code",
   "execution_count": 2,
   "id": "b55d833e-72ef-4da4-ab7e-4ea1e35e6c7e",
   "metadata": {},
   "outputs": [
    {
     "name": "stdout",
     "output_type": "stream",
     "text": [
      "4\n",
      "6\n",
      "2\n",
      "8\n",
      "6\n",
      "2\n",
      "9\n",
      "3\n"
     ]
    }
   ],
   "source": [
    "for i in list:\n",
    "    print(i)"
   ]
  },
  {
   "cell_type": "code",
   "execution_count": 3,
   "id": "f2f13dad-1fd3-4bac-903e-5cfa11c0bc45",
   "metadata": {},
   "outputs": [
    {
     "name": "stdout",
     "output_type": "stream",
     "text": [
      "0\n",
      "1\n",
      "2\n",
      "3\n",
      "4\n"
     ]
    }
   ],
   "source": [
    "for i in range(5):\n",
    "    print(i)"
   ]
  },
  {
   "cell_type": "code",
   "execution_count": 4,
   "id": "51777e6c-fe64-403e-b7ad-9ff78266d85a",
   "metadata": {},
   "outputs": [
    {
     "name": "stdout",
     "output_type": "stream",
     "text": [
      "10\n",
      "11\n",
      "12\n",
      "13\n",
      "14\n"
     ]
    }
   ],
   "source": [
    "for i in range(10,15):\n",
    "    print(i)"
   ]
  },
  {
   "cell_type": "code",
   "execution_count": 5,
   "id": "6fd7721a-7ad2-4df8-8507-7d952b09dfb3",
   "metadata": {},
   "outputs": [
    {
     "name": "stdout",
     "output_type": "stream",
     "text": [
      "0\n",
      "1\n",
      "2\n"
     ]
    }
   ],
   "source": [
    "# while loop\n",
    "\n",
    "count = 0\n",
    "while count<3:\n",
    "    print(count)\n",
    "    count +=1 "
   ]
  },
  {
   "cell_type": "code",
   "execution_count": 7,
   "id": "91b5ab82-2ba7-4689-a84e-14a2e21c49ac",
   "metadata": {},
   "outputs": [
    {
     "name": "stdout",
     "output_type": "stream",
     "text": [
      "Apple\n",
      "Banana\n",
      "Grapes\n"
     ]
    }
   ],
   "source": [
    "list1 = [\"Apple\", \"Banana\", \"Grapes\"]\n",
    "for l in list1:\n",
    "    print(l)"
   ]
  },
  {
   "cell_type": "code",
   "execution_count": 13,
   "id": "e31b7675-4b63-4cb5-a3a2-268c0a98a797",
   "metadata": {},
   "outputs": [
    {
     "name": "stdout",
     "output_type": "stream",
     "text": [
      "Apple\n",
      "Banana\n"
     ]
    }
   ],
   "source": [
    "for l in list1:\n",
    "    if (l == \"Grapes\"):\n",
    "        continue\n",
    "    print(l)\n",
    "    "
   ]
  },
  {
   "cell_type": "code",
   "execution_count": null,
   "id": "ae8ed4dd-53c8-4fe4-9e4d-5c6d869572d4",
   "metadata": {},
   "outputs": [],
   "source": []
  }
 ],
 "metadata": {
  "kernelspec": {
   "display_name": "Python [conda env:base] *",
   "language": "python",
   "name": "conda-base-py"
  },
  "language_info": {
   "codemirror_mode": {
    "name": "ipython",
    "version": 3
   },
   "file_extension": ".py",
   "mimetype": "text/x-python",
   "name": "python",
   "nbconvert_exporter": "python",
   "pygments_lexer": "ipython3",
   "version": "3.13.5"
  }
 },
 "nbformat": 4,
 "nbformat_minor": 5
}
