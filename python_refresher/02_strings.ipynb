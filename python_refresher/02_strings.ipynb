{
 "cells": [
  {
   "cell_type": "code",
   "execution_count": 1,
   "id": "742dd5ed-531e-4845-8e15-3dd21ccf4dc2",
   "metadata": {},
   "outputs": [],
   "source": [
    "name = \"Devil\""
   ]
  },
  {
   "cell_type": "code",
   "execution_count": 3,
   "id": "6527e7bd-229b-42a1-872c-e366c116ccfe",
   "metadata": {},
   "outputs": [
    {
     "data": {
      "text/plain": [
       "str"
      ]
     },
     "execution_count": 3,
     "metadata": {},
     "output_type": "execute_result"
    }
   ],
   "source": [
    "type(name)"
   ]
  },
  {
   "cell_type": "code",
   "execution_count": 4,
   "id": "153f1954-76c2-46b3-836e-b5711052f30b",
   "metadata": {},
   "outputs": [
    {
     "data": {
      "text/plain": [
       "'DEVIL'"
      ]
     },
     "execution_count": 4,
     "metadata": {},
     "output_type": "execute_result"
    }
   ],
   "source": [
    "name.upper()"
   ]
  },
  {
   "cell_type": "code",
   "execution_count": 5,
   "id": "6ff9374e-d299-434e-b9d0-75775109f8a8",
   "metadata": {},
   "outputs": [
    {
     "data": {
      "text/plain": [
       "'devil'"
      ]
     },
     "execution_count": 5,
     "metadata": {},
     "output_type": "execute_result"
    }
   ],
   "source": [
    "name.lower()"
   ]
  },
  {
   "cell_type": "code",
   "execution_count": 7,
   "id": "b8d3476e-7643-4226-9a41-7d9265c107e8",
   "metadata": {},
   "outputs": [
    {
     "data": {
      "text/plain": [
       "1"
      ]
     },
     "execution_count": 7,
     "metadata": {},
     "output_type": "execute_result"
    }
   ],
   "source": [
    "name.count(\"D\")"
   ]
  },
  {
   "cell_type": "code",
   "execution_count": 8,
   "id": "58bbbf21-7824-4dc2-b894-af0db628ef37",
   "metadata": {},
   "outputs": [],
   "source": [
    "str = \"Devil'sInferno\""
   ]
  },
  {
   "cell_type": "code",
   "execution_count": 10,
   "id": "9acad463-fe38-487a-b3a3-3aa1e2109b83",
   "metadata": {},
   "outputs": [
    {
     "data": {
      "text/plain": [
       "[\"Devil'sIn\", 'erno']"
      ]
     },
     "execution_count": 10,
     "metadata": {},
     "output_type": "execute_result"
    }
   ],
   "source": [
    "str.split(\"f\")"
   ]
  },
  {
   "cell_type": "code",
   "execution_count": 11,
   "id": "9c5f3625-8573-4835-bc38-893e2a6143ee",
   "metadata": {},
   "outputs": [
    {
     "data": {
      "text/plain": [
       "\"Devil'\""
      ]
     },
     "execution_count": 11,
     "metadata": {},
     "output_type": "execute_result"
    }
   ],
   "source": [
    "str[0:6]"
   ]
  },
  {
   "cell_type": "code",
   "execution_count": null,
   "id": "1da65b08-6de2-42c3-aae1-1a105c75f74c",
   "metadata": {},
   "outputs": [],
   "source": []
  }
 ],
 "metadata": {
  "kernelspec": {
   "display_name": "Python [conda env:base] *",
   "language": "python",
   "name": "conda-base-py"
  },
  "language_info": {
   "codemirror_mode": {
    "name": "ipython",
    "version": 3
   },
   "file_extension": ".py",
   "mimetype": "text/x-python",
   "name": "python",
   "nbconvert_exporter": "python",
   "pygments_lexer": "ipython3",
   "version": "3.13.5"
  }
 },
 "nbformat": 4,
 "nbformat_minor": 5
}
