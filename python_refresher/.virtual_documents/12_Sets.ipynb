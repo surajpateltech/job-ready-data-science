sets = {265,9,4,466,13,36,9}


type(sets)


sets


# Empty set (must use set(), not {})
empty_set = set()

# Set with elements
numbers = {1, 2, 3, 4, 5}

# Mixed data types
mixed_set = {1, "Hello", 3.14, True}

# Creating a set from a list
unique_numbers = set([1, 2, 2, 3, 4, 4, 5])
print(unique_numbers)  # {1, 2, 3, 4, 5}


s = {4,8,6,2,99,4}
print(s)


s.add(59)


s


s.update([69,89,74,39,89])


s


s.pop()


s


s.remove(266)


s.discard(569)


new_s = s.copy()


new_s


new_s.update([84,199,879,856])


new_s


s.union(new_s)


s.intersection(new_s)



