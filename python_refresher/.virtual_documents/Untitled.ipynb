d = {}


type(d)


student = {
    "name" : "Devil",
    "age" : 25,
    "grade" : "A"
}


print(student.name)



