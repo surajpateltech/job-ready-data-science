{
 "cells": [
  {
   "cell_type": "code",
   "execution_count": 1,
   "id": "384f2298-ea56-47c8-9bb3-c64879a979f0",
   "metadata": {},
   "outputs": [],
   "source": [
    "a = 5"
   ]
  },
  {
   "cell_type": "code",
   "execution_count": 2,
   "id": "6d5d253d-5a76-4de6-8772-70e055100d7e",
   "metadata": {},
   "outputs": [],
   "source": [
    "b = 90"
   ]
  },
  {
   "cell_type": "code",
   "execution_count": 3,
   "id": "4556e211-b6b9-4fca-ab4d-fb4523956192",
   "metadata": {},
   "outputs": [
    {
     "data": {
      "text/plain": [
       "95"
      ]
     },
     "execution_count": 3,
     "metadata": {},
     "output_type": "execute_result"
    }
   ],
   "source": [
    "a+b"
   ]
  },
  {
   "cell_type": "code",
   "execution_count": 5,
   "id": "f222e85e-9017-49c9-816e-eac19f2bac5a",
   "metadata": {},
   "outputs": [],
   "source": [
    "str = \"Devil\""
   ]
  },
  {
   "cell_type": "code",
   "execution_count": 6,
   "id": "7c4e90de-60ad-4674-8c83-dbe4eca8edca",
   "metadata": {},
   "outputs": [
    {
     "name": "stdout",
     "output_type": "stream",
     "text": [
      "Hello\n"
     ]
    }
   ],
   "source": [
    "print(\"Hello\")"
   ]
  },
  {
   "cell_type": "code",
   "execution_count": 8,
   "id": "69c78805-679b-4565-bb14-593f16174b50",
   "metadata": {},
   "outputs": [],
   "source": [
    "# this is a comment"
   ]
  },
  {
   "cell_type": "code",
   "execution_count": 9,
   "id": "79b0dc24-35a5-4874-afd2-1991661ec912",
   "metadata": {},
   "outputs": [
    {
     "data": {
      "text/plain": [
       "str"
      ]
     },
     "execution_count": 9,
     "metadata": {},
     "output_type": "execute_result"
    }
   ],
   "source": [
    "type(str)"
   ]
  },
  {
   "cell_type": "code",
   "execution_count": 10,
   "id": "ece5169d-f076-43e3-b0be-76ca07d42ed6",
   "metadata": {},
   "outputs": [],
   "source": [
    "a = \"625\""
   ]
  },
  {
   "cell_type": "code",
   "execution_count": 11,
   "id": "0555c4f5-6971-4f1b-a6f2-2f6393f41fc9",
   "metadata": {},
   "outputs": [],
   "source": [
    "b = \"252\""
   ]
  },
  {
   "cell_type": "code",
   "execution_count": 12,
   "id": "00969e06-b69f-4ab6-b344-452b695d13d0",
   "metadata": {},
   "outputs": [
    {
     "name": "stdout",
     "output_type": "stream",
     "text": [
      "625252\n"
     ]
    }
   ],
   "source": [
    "print(a+b)"
   ]
  },
  {
   "cell_type": "code",
   "execution_count": 14,
   "id": "3fe53c77-9e27-42aa-b1e1-bc7986a8542f",
   "metadata": {},
   "outputs": [
    {
     "name": "stdout",
     "output_type": "stream",
     "text": [
      "877\n"
     ]
    }
   ],
   "source": [
    "print(int(a)+int(b)) #typecasting"
   ]
  },
  {
   "cell_type": "code",
   "execution_count": null,
   "id": "4a67b37c-bf73-4001-bc06-55016ebb27bf",
   "metadata": {},
   "outputs": [],
   "source": []
  }
 ],
 "metadata": {
  "kernelspec": {
   "display_name": "Python [conda env:base] *",
   "language": "python",
   "name": "conda-base-py"
  },
  "language_info": {
   "codemirror_mode": {
    "name": "ipython",
    "version": 3
   },
   "file_extension": ".py",
   "mimetype": "text/x-python",
   "name": "python",
   "nbconvert_exporter": "python",
   "pygments_lexer": "ipython3",
   "version": "3.13.5"
  }
 },
 "nbformat": 4,
 "nbformat_minor": 5
}
