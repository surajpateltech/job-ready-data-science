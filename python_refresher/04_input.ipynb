{
 "cells": [
  {
   "cell_type": "markdown",
   "id": "8680abdb-a37f-4912-93ee-c1e0d4cc7da5",
   "metadata": {},
   "source": [
    "Taking Input"
   ]
  },
  {
   "cell_type": "code",
   "execution_count": 13,
   "id": "9b9bc2f6-2d4a-4794-900d-7ffe10c36045",
   "metadata": {},
   "outputs": [
    {
     "name": "stdin",
     "output_type": "stream",
     "text": [
      "Enter the value of a :  616\n"
     ]
    }
   ],
   "source": [
    "a = input(\"Enter the value of a : \") # bydefault it takes input as input"
   ]
  },
  {
   "cell_type": "code",
   "execution_count": 14,
   "id": "369f7841-334d-4e64-a3d8-909f084977f8",
   "metadata": {},
   "outputs": [
    {
     "data": {
      "text/plain": [
       "'616'"
      ]
     },
     "execution_count": 14,
     "metadata": {},
     "output_type": "execute_result"
    }
   ],
   "source": [
    "a"
   ]
  },
  {
   "cell_type": "code",
   "execution_count": 9,
   "id": "3827fc81-29e2-4abe-9cd5-287ba3b7a13e",
   "metadata": {},
   "outputs": [
    {
     "name": "stdin",
     "output_type": "stream",
     "text": [
      "Enter the value of b :  55\n"
     ]
    }
   ],
   "source": [
    "b = input(\"Enter the value of b : \")\n"
   ]
  },
  {
   "cell_type": "code",
   "execution_count": 10,
   "id": "c2d3599b-eebb-40c6-9dcf-18d1bacef5b1",
   "metadata": {},
   "outputs": [
    {
     "data": {
      "text/plain": [
       "'55'"
      ]
     },
     "execution_count": 10,
     "metadata": {},
     "output_type": "execute_result"
    }
   ],
   "source": [
    "b"
   ]
  },
  {
   "cell_type": "code",
   "execution_count": 11,
   "id": "d7db47fe-0d1a-4096-b67a-b125c36311a6",
   "metadata": {},
   "outputs": [
    {
     "data": {
      "text/plain": [
       "'5255'"
      ]
     },
     "execution_count": 11,
     "metadata": {},
     "output_type": "execute_result"
    }
   ],
   "source": [
    "a+b"
   ]
  },
  {
   "cell_type": "code",
   "execution_count": 12,
   "id": "7dc6867f-2fe6-4377-897e-ee67b518476b",
   "metadata": {},
   "outputs": [
    {
     "data": {
      "text/plain": [
       "107"
      ]
     },
     "execution_count": 12,
     "metadata": {},
     "output_type": "execute_result"
    }
   ],
   "source": [
    "int(a) + int(b)"
   ]
  },
  {
   "cell_type": "code",
   "execution_count": 15,
   "id": "34bee117-11dc-4ef9-b2b3-ed0c796bcd5f",
   "metadata": {},
   "outputs": [
    {
     "name": "stdin",
     "output_type": "stream",
     "text": [
      " 52\n"
     ]
    }
   ],
   "source": [
    "c = input()"
   ]
  },
  {
   "cell_type": "code",
   "execution_count": null,
   "id": "c962ad4f-5e08-4dfc-b5e5-5361f551624b",
   "metadata": {},
   "outputs": [],
   "source": []
  }
 ],
 "metadata": {
  "kernelspec": {
   "display_name": "Python [conda env:base] *",
   "language": "python",
   "name": "conda-base-py"
  },
  "language_info": {
   "codemirror_mode": {
    "name": "ipython",
    "version": 3
   },
   "file_extension": ".py",
   "mimetype": "text/x-python",
   "name": "python",
   "nbconvert_exporter": "python",
   "pygments_lexer": "ipython3",
   "version": "3.13.5"
  }
 },
 "nbformat": 4,
 "nbformat_minor": 5
}
